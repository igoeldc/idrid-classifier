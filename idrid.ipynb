{
 "cells": [
  {
   "cell_type": "code",
   "execution_count": 1,
   "id": "cb8cdb6e",
   "metadata": {},
   "outputs": [],
   "source": [
    "import numpy as np\n",
    "import pandas as pd\n",
    "import matplotlib.pyplot as plt\n",
    "\n",
    "import os\n",
    "from PIL import Image\n",
    "from tqdm import tqdm\n",
    "\n",
    "import torch\n",
    "import torch.nn as nn\n",
    "import torch.optim as optim\n",
    "from torch.utils.data import DataLoader, Dataset\n",
    "from torchvision import datasets, transforms"
   ]
  },
  {
   "cell_type": "code",
   "execution_count": 2,
   "id": "25b6dbee",
   "metadata": {},
   "outputs": [],
   "source": [
    "train_data_path = 'datasets/B-Disease_Grading/1-Original_Images/a-Train_Set'\n",
    "test_data_path = 'datasets/B-Disease_Grading/1-Original_Images/b-Test_Set'\n",
    "train_labels = pd.read_csv('datasets/B-Disease_Grading/2-Groundtruths/a-Train_Labels.csv')\n",
    "test_labels = pd.read_csv('datasets/B-Disease_Grading/2-Groundtruths/b-Test_Labels.csv')"
   ]
  },
  {
   "cell_type": "code",
   "execution_count": 3,
   "id": "5af9a844",
   "metadata": {},
   "outputs": [],
   "source": [
    "class IDRiDDataset(Dataset):\n",
    "    def __init__(self, csv_file, img_dir, transform=None):\n",
    "        self.data = pd.read_csv(csv_file)\n",
    "        self.img_dir = img_dir\n",
    "        self.transform = transform\n",
    "\n",
    "    def __len__(self):\n",
    "        return len(self.data)\n",
    "\n",
    "    def __getitem__(self, idx):\n",
    "        img_name = self.data.iloc[idx]['Image name'] + '.jpg'\n",
    "        img_path = os.path.join(self.img_dir, img_name)\n",
    "        image = Image.open(img_path)#.convert('RGB')\n",
    "\n",
    "        retinopathy = int(self.data.iloc[idx]['Retinopathy grade'])\n",
    "        edema = int(self.data.iloc[idx]['Risk of macular edema '])\n",
    "\n",
    "        if self.transform:\n",
    "            image = self.transform(image)\n",
    "\n",
    "        return image, {'retinopathy': retinopathy, 'edema': edema}"
   ]
  },
  {
   "cell_type": "code",
   "execution_count": 4,
   "id": "93ae733e",
   "metadata": {},
   "outputs": [
    {
     "name": "stderr",
     "output_type": "stream",
     "text": [
      "100%|██████████| 13/13 [00:12<00:00,  1.08it/s]\n"
     ]
    },
    {
     "ename": "AttributeError",
     "evalue": "'numpy.ndarray' object has no attribute 'numpy'",
     "output_type": "error",
     "traceback": [
      "\u001b[31m---------------------------------------------------------------------------\u001b[39m",
      "\u001b[31mAttributeError\u001b[39m                            Traceback (most recent call last)",
      "\u001b[36mCell\u001b[39m\u001b[36m \u001b[39m\u001b[32mIn[4]\u001b[39m\u001b[32m, line 34\u001b[39m\n\u001b[32m     27\u001b[39m dataset_mean_std = IDRiDDataset(\n\u001b[32m     28\u001b[39m     csv_file=\u001b[33m'\u001b[39m\u001b[33mdatasets/B-Disease_Grading/2-Groundtruths/a-Train_Labels.csv\u001b[39m\u001b[33m'\u001b[39m,\n\u001b[32m     29\u001b[39m     img_dir=\u001b[33m'\u001b[39m\u001b[33mdatasets/B-Disease_Grading/1-Original_Images/a-Train_Set\u001b[39m\u001b[33m'\u001b[39m,\n\u001b[32m     30\u001b[39m     transform=transform_mean_std\n\u001b[32m     31\u001b[39m )\n\u001b[32m     33\u001b[39m mean, std = compute_mean_std(dataset_mean_std)\n\u001b[32m---> \u001b[39m\u001b[32m34\u001b[39m \u001b[38;5;28mprint\u001b[39m(\u001b[33mf\u001b[39m\u001b[33m\"\u001b[39m\u001b[33mMean: \u001b[39m\u001b[38;5;132;01m{\u001b[39;00m\u001b[43mmean\u001b[49m\u001b[43m.\u001b[49m\u001b[43mnumpy\u001b[49m()\u001b[38;5;132;01m}\u001b[39;00m\u001b[38;5;130;01m\\n\u001b[39;00m\u001b[33mStd: \u001b[39m\u001b[38;5;132;01m{\u001b[39;00mstd.numpy()\u001b[38;5;132;01m}\u001b[39;00m\u001b[33m\"\u001b[39m)\n",
      "\u001b[31mAttributeError\u001b[39m: 'numpy.ndarray' object has no attribute 'numpy'"
     ]
    }
   ],
   "source": [
    "def compute_mean_std(dataset):\n",
    "    loader = DataLoader(dataset, batch_size=32, shuffle=False, num_workers=0)\n",
    "\n",
    "    mean = 0.0\n",
    "    std = 0.0\n",
    "    nb_samples = 0\n",
    "\n",
    "    for images, _ in tqdm(loader):\n",
    "        batch_samples = images.size(0)  # batch size (32)\n",
    "        images = images.view(batch_samples, images.size(1), -1)  # [B, C, H*W]\n",
    "        \n",
    "        mean += images.mean(2).sum(0)  # sum of channel means\n",
    "        std += images.std(2).sum(0)    # sum of channel stds\n",
    "        nb_samples += batch_samples\n",
    "\n",
    "    mean /= nb_samples\n",
    "    std /= nb_samples\n",
    "\n",
    "    return mean.numpy(), std.numpy()\n",
    "\n",
    "transform_mean_std = transforms.Compose([\n",
    "    transforms.Resize(512),\n",
    "    transforms.CenterCrop(448),\n",
    "    transforms.ToTensor()\n",
    "])\n",
    "\n",
    "dataset_mean_std = IDRiDDataset(\n",
    "    csv_file='datasets/B-Disease_Grading/2-Groundtruths/a-Train_Labels.csv',\n",
    "    img_dir='datasets/B-Disease_Grading/1-Original_Images/a-Train_Set',\n",
    "    transform=transform_mean_std\n",
    ")\n",
    "\n",
    "mean, std = compute_mean_std(dataset_mean_std)\n",
    "print(f\"Mean: {mean.numpy()}\\nStd: {std.numpy()}\")"
   ]
  },
  {
   "cell_type": "code",
   "execution_count": null,
   "id": "277d619a",
   "metadata": {},
   "outputs": [],
   "source": [
    "transform = transforms.Compose([\n",
    "    transforms.Resize(512),\n",
    "    transforms.CenterCrop(448),\n",
    "    transforms.ToTensor(),\n",
    "    transforms.Normalize(\n",
    "        mean=mean,\n",
    "        std=std\n",
    "    )\n",
    "])\n",
    "\n",
    "train_dataset = IDRiDDataset(\n",
    "    img_dir='datasets/B-Disease_Grading/1-Original_Images/a-Train_Set',\n",
    "    csv_file='datasets/B-Disease_Grading/2-Groundtruths/a-Train_Labels.csv',\n",
    "    transform=transform\n",
    ")\n",
    "\n",
    "train_loader = DataLoader(train_dataset, batch_size=32, shuffle=True)"
   ]
  },
  {
   "cell_type": "code",
   "execution_count": null,
   "id": "1ce23192",
   "metadata": {},
   "outputs": [],
   "source": []
  },
  {
   "cell_type": "code",
   "execution_count": null,
   "id": "a8ca4582",
   "metadata": {},
   "outputs": [],
   "source": []
  },
  {
   "cell_type": "code",
   "execution_count": null,
   "id": "9e05d4e1",
   "metadata": {},
   "outputs": [],
   "source": []
  },
  {
   "cell_type": "code",
   "execution_count": null,
   "id": "ee6da3a4",
   "metadata": {},
   "outputs": [],
   "source": []
  },
  {
   "cell_type": "code",
   "execution_count": null,
   "id": "3c6bd731",
   "metadata": {},
   "outputs": [],
   "source": []
  },
  {
   "cell_type": "code",
   "execution_count": null,
   "id": "949ccae5",
   "metadata": {},
   "outputs": [],
   "source": []
  },
  {
   "cell_type": "code",
   "execution_count": null,
   "id": "f1809af2",
   "metadata": {},
   "outputs": [],
   "source": []
  },
  {
   "cell_type": "code",
   "execution_count": null,
   "id": "02805367",
   "metadata": {},
   "outputs": [],
   "source": []
  },
  {
   "cell_type": "code",
   "execution_count": null,
   "id": "3b710eef",
   "metadata": {},
   "outputs": [],
   "source": []
  },
  {
   "cell_type": "code",
   "execution_count": null,
   "id": "06f89850",
   "metadata": {},
   "outputs": [],
   "source": []
  }
 ],
 "metadata": {
  "kernelspec": {
   "display_name": ".venv",
   "language": "python",
   "name": "python3"
  },
  "language_info": {
   "codemirror_mode": {
    "name": "ipython",
    "version": 3
   },
   "file_extension": ".py",
   "mimetype": "text/x-python",
   "name": "python",
   "nbconvert_exporter": "python",
   "pygments_lexer": "ipython3",
   "version": "3.13.4"
  }
 },
 "nbformat": 4,
 "nbformat_minor": 5
}
