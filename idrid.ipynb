{
 "cells": [
  {
   "cell_type": "code",
   "execution_count": 1,
   "id": "cb8cdb6e",
   "metadata": {},
   "outputs": [],
   "source": [
    "import pandas as pd\n",
    "import matplotlib.pyplot as plt\n",
    "import seaborn as sns\n",
    "\n",
    "import os\n",
    "from PIL import Image\n",
    "from tqdm import tqdm\n",
    "\n",
    "import torch\n",
    "import torch.nn as nn\n",
    "import torch.optim as optim\n",
    "import torch.nn.functional as F\n",
    "from torch.utils.data import DataLoader, Dataset, random_split\n",
    "from torchvision import transforms\n",
    "\n",
    "from sklearn.metrics import confusion_matrix, classification_report\n",
    "\n",
    "from notifyme import notifyme"
   ]
  },
  {
   "cell_type": "code",
   "execution_count": 2,
   "id": "f4681709",
   "metadata": {},
   "outputs": [
    {
     "name": "stdout",
     "output_type": "stream",
     "text": [
      "mps\n"
     ]
    }
   ],
   "source": [
    "device = torch.device('mps' if torch.backends.mps.is_available() else 'cpu')\n",
    "print(device)"
   ]
  },
  {
   "cell_type": "code",
   "execution_count": 3,
   "id": "25b6dbee",
   "metadata": {},
   "outputs": [],
   "source": [
    "dataset_path = 'datasets/B-Disease_Grading'\n",
    "data_path = '1-Original_Images'\n",
    "label_path = '2-Groundtruths'\n",
    "\n",
    "train_data_path = os.path.join(dataset_path, data_path, 'a-Train_Set')\n",
    "test_data_path = os.path.join(dataset_path, data_path, 'b-Test_Set')\n",
    "train_labels = os.path.join(dataset_path, label_path, 'a-Train_Labels.csv')\n",
    "test_labels = os.path.join(dataset_path, label_path, 'b-Test_Labels.csv')"
   ]
  },
  {
   "cell_type": "code",
   "execution_count": 4,
   "id": "2d3a2d36",
   "metadata": {},
   "outputs": [],
   "source": [
    "class SimpleCNN(nn.Module):\n",
    "    def __init__(self, num_classes=2):\n",
    "        super(SimpleCNN, self).__init__()\n",
    "\n",
    "        self.conv1 = nn.Conv2d(3, 16, kernel_size=3, padding=1)   # [B, 3, 448, 448]\n",
    "        self.pool1 = nn.MaxPool2d(2, 2)                           # [B, 16, 224, 224]\n",
    "\n",
    "        self.conv2 = nn.Conv2d(16, 32, kernel_size=3, padding=1)  # [B, 16, 224, 224]\n",
    "        self.pool2 = nn.MaxPool2d(4, 4)                           # [B, 32, 56, 56]\n",
    "\n",
    "        self.fc1 = nn.Linear(32 * 64 * 96, 512)\n",
    "        self.dropout = nn.Dropout(0.4)\n",
    "        self.fc2 = nn.Linear(512, num_classes)\n",
    "\n",
    "    def forward(self, x):\n",
    "        x = self.pool1(F.relu(self.conv1(x)))\n",
    "        x = self.pool2(F.relu(self.conv2(x)))\n",
    "\n",
    "        x = x.view(x.size(0), -1)  # Flatten\n",
    "        x = self.dropout(F.relu(self.fc1(x)))\n",
    "        x = self.fc2(x)\n",
    "        return x"
   ]
  },
  {
   "cell_type": "code",
   "execution_count": 5,
   "id": "5af9a844",
   "metadata": {},
   "outputs": [],
   "source": [
    "class IDRiDDataset(Dataset):\n",
    "    def __init__(self, img_dir, csv_file, transform=None):\n",
    "        self.data = pd.read_csv(csv_file)\n",
    "        self.img_dir = img_dir\n",
    "        self.transform = transform\n",
    "\n",
    "    def __len__(self):\n",
    "        return len(self.data)\n",
    "\n",
    "    def __getitem__(self, idx):\n",
    "        img_name = self.data.iloc[idx]['Image name'] + '.jpg'\n",
    "        img_path = os.path.join(self.img_dir, img_name)\n",
    "        image = Image.open(img_path)#.convert('RGB')\n",
    "\n",
    "        retinopathy = int(self.data.iloc[idx]['Retinopathy grade'])\n",
    "        edema = int(self.data.iloc[idx]['Risk of macular edema '])\n",
    "\n",
    "        if self.transform:\n",
    "            image = self.transform(image)\n",
    "\n",
    "        return image, {'retinopathy': retinopathy, 'edema': edema}"
   ]
  },
  {
   "cell_type": "markdown",
   "id": "d1e54a8b",
   "metadata": {},
   "source": [
    "## Training"
   ]
  },
  {
   "cell_type": "code",
   "execution_count": 6,
   "id": "93ae733e",
   "metadata": {},
   "outputs": [
    {
     "name": "stderr",
     "output_type": "stream",
     "text": [
      "100%|██████████| 13/13 [00:12<00:00,  1.07it/s]"
     ]
    },
    {
     "name": "stdout",
     "output_type": "stream",
     "text": [
      "Mean: [0.64398366 0.31709325 0.10248035]\n",
      "Std: [0.11275874 0.08133845 0.03794106]\n"
     ]
    },
    {
     "name": "stderr",
     "output_type": "stream",
     "text": [
      "\n"
     ]
    }
   ],
   "source": [
    "def compute_mean_std(dataset):\n",
    "    loader = DataLoader(dataset, batch_size=32, shuffle=False, num_workers=0)\n",
    "\n",
    "    mean = 0.0\n",
    "    std = 0.0\n",
    "    nb_samples = 0\n",
    "\n",
    "    for images, _ in tqdm(loader):\n",
    "        batch_samples = images.size(0)  # batch size (32)\n",
    "        images = images.view(batch_samples, images.size(1), -1)  # [B, C, H*W]\n",
    "        \n",
    "        mean += images.mean(2).sum(0)  # sum of channel means\n",
    "        std += images.std(2).sum(0)    # sum of channel stds\n",
    "        nb_samples += batch_samples\n",
    "\n",
    "    mean /= nb_samples\n",
    "    std /= nb_samples\n",
    "\n",
    "    return mean.numpy(), std.numpy()\n",
    "\n",
    "transform_mean_std = transforms.Compose([\n",
    "    transforms.Resize(512),\n",
    "    transforms.CenterCrop(448),\n",
    "    transforms.ToTensor()\n",
    "])\n",
    "\n",
    "dataset_mean_std = IDRiDDataset(\n",
    "    img_dir=train_data_path,\n",
    "    csv_file=train_labels,\n",
    "    transform=transform_mean_std\n",
    ")\n",
    "\n",
    "mean, std = compute_mean_std(dataset_mean_std)\n",
    "print(f\"Mean: {mean}\\nStd: {std}\")"
   ]
  },
  {
   "cell_type": "code",
   "execution_count": 7,
   "id": "277d619a",
   "metadata": {},
   "outputs": [],
   "source": [
    "train_transform = transforms.Compose([\n",
    "    transforms.Resize(512),\n",
    "    transforms.RandomResizedCrop(448, scale=(0.85, 1.0)),\n",
    "    transforms.RandomHorizontalFlip(),\n",
    "    transforms.RandomRotation(degrees=10),\n",
    "    transforms.ColorJitter(brightness=0.2, contrast=0.2, saturation=0.1),\n",
    "    transforms.ToTensor(),\n",
    "    transforms.Normalize(mean=mean, std=std)\n",
    "])\n",
    "\n",
    "val_test_transform = transforms.Compose([\n",
    "    transforms.Resize(512),\n",
    "    transforms.ToTensor(),\n",
    "    transforms.Normalize(mean=mean, std=std)\n",
    "])\n",
    "\n",
    "train_val_dataset = IDRiDDataset(\n",
    "    img_dir=train_data_path,\n",
    "    csv_file=train_labels\n",
    ")\n",
    "\n",
    "train_dataset, val_dataset = random_split(train_val_dataset, [0.8, 0.2])\n",
    "\n",
    "train_dataset.dataset.transform = train_transform\n",
    "val_dataset.dataset.transform = val_test_transform\n",
    "\n",
    "train_loader = DataLoader(train_dataset, batch_size=16, shuffle=True)\n",
    "val_loader = DataLoader(val_dataset, batch_size=16, shuffle=False)"
   ]
  },
  {
   "cell_type": "code",
   "execution_count": 8,
   "id": "cac326f9",
   "metadata": {},
   "outputs": [],
   "source": [
    "num_classes = len(pd.read_csv(train_labels)['Retinopathy grade'].unique())\n",
    "cnn_model = SimpleCNN(num_classes=num_classes).to(device)\n",
    "criterion = nn.CrossEntropyLoss()\n",
    "optimizer = optim.Adam(cnn_model.parameters(), lr=0.00025, weight_decay=1e-4)"
   ]
  },
  {
   "cell_type": "code",
   "execution_count": 9,
   "id": "442c29da",
   "metadata": {},
   "outputs": [],
   "source": [
    "def train(model, train_loader, val_loader, optimizer, criterion, device, epochs=10):\n",
    "    train_losses = []\n",
    "    train_accuracies = []\n",
    "    val_losses = []\n",
    "    val_accuracies = []\n",
    "    \n",
    "    for epoch in range(epochs):\n",
    "        # === Training Phase ===\n",
    "        model.train()\n",
    "        train_loss = 0.0\n",
    "        train_correct = 0\n",
    "        train_total = 0\n",
    "\n",
    "        for images, labels in train_loader:\n",
    "            images = images.to(device)\n",
    "            targets = labels['retinopathy'].to(device)\n",
    "\n",
    "            optimizer.zero_grad()\n",
    "            outputs = model(images)\n",
    "            loss = criterion(outputs, targets)\n",
    "            loss.backward()\n",
    "            optimizer.step()\n",
    "\n",
    "            train_loss += loss.item() * images.size(0)\n",
    "            _, predicted = outputs.max(1)\n",
    "            train_total += targets.size(0)\n",
    "            train_correct += (predicted == targets).sum().item()\n",
    "\n",
    "        avg_train_loss = train_loss / train_total\n",
    "        train_acc = 100 * train_correct / train_total\n",
    "\n",
    "        # === Validation Phase ===\n",
    "        model.eval()\n",
    "        val_loss = 0.0\n",
    "        val_correct = 0\n",
    "        val_total = 0\n",
    "\n",
    "        with torch.no_grad():\n",
    "            for images, labels in val_loader:\n",
    "                images = images.to(device)\n",
    "                targets = labels['retinopathy'].to(device)\n",
    "\n",
    "                outputs = model(images)\n",
    "                loss = criterion(outputs, targets)\n",
    "\n",
    "                val_loss += loss.item() * images.size(0)\n",
    "                _, predicted = outputs.max(1)\n",
    "                val_total += targets.size(0)\n",
    "                val_correct += (predicted == targets).sum().item()\n",
    "\n",
    "        avg_val_loss = val_loss / val_total\n",
    "        val_acc = 100 * val_correct / val_total\n",
    "\n",
    "        train_losses.append(avg_train_loss)\n",
    "        train_accuracies.append(train_acc)\n",
    "        val_losses.append(avg_val_loss)\n",
    "        val_accuracies.append(val_acc)\n",
    "\n",
    "        # Print metrics after each epoch\n",
    "        epochs_length = len(str(epochs))\n",
    "        print(f\"Epoch {epoch+1:0{epochs_length}}/{epochs} | \"\n",
    "              f\"Train Loss: {avg_train_loss:.4f} | Train Acc: {train_acc:.2f}% | \"\n",
    "              f\"Val Loss: {avg_val_loss:.4f} | Val Acc: {val_acc:.2f}%\")\n",
    "    \n",
    "    return train_losses, train_accuracies, val_losses, val_accuracies"
   ]
  },
  {
   "cell_type": "code",
   "execution_count": 10,
   "id": "f2eaffeb",
   "metadata": {},
   "outputs": [
    {
     "name": "stdout",
     "output_type": "stream",
     "text": [
      "Epoch 01/25 | Train Loss: 7.8939 | Train Acc: 27.49% | Val Loss: 1.7637 | Val Acc: 45.12%\n",
      "Epoch 02/25 | Train Loss: 2.6209 | Train Acc: 33.84% | Val Loss: 1.3009 | Val Acc: 54.88%\n",
      "Epoch 03/25 | Train Loss: 1.4236 | Train Acc: 47.13% | Val Loss: 1.1352 | Val Acc: 57.32%\n",
      "Epoch 04/25 | Train Loss: 1.1890 | Train Acc: 53.47% | Val Loss: 1.1435 | Val Acc: 50.00%\n",
      "Epoch 05/25 | Train Loss: 1.1400 | Train Acc: 54.68% | Val Loss: 1.1462 | Val Acc: 54.88%\n",
      "Epoch 06/25 | Train Loss: 1.0439 | Train Acc: 58.91% | Val Loss: 1.1089 | Val Acc: 58.54%\n",
      "Epoch 07/25 | Train Loss: 0.9782 | Train Acc: 60.12% | Val Loss: 1.1158 | Val Acc: 56.10%\n",
      "Epoch 08/25 | Train Loss: 0.9348 | Train Acc: 62.24% | Val Loss: 1.1755 | Val Acc: 50.00%\n",
      "Epoch 09/25 | Train Loss: 0.8540 | Train Acc: 67.67% | Val Loss: 1.1557 | Val Acc: 50.00%\n",
      "Epoch 10/25 | Train Loss: 0.7881 | Train Acc: 67.98% | Val Loss: 1.1801 | Val Acc: 58.54%\n",
      "Epoch 11/25 | Train Loss: 0.7107 | Train Acc: 71.60% | Val Loss: 1.3528 | Val Acc: 48.78%\n",
      "Epoch 12/25 | Train Loss: 0.6645 | Train Acc: 76.44% | Val Loss: 1.2687 | Val Acc: 54.88%\n",
      "Epoch 13/25 | Train Loss: 0.5510 | Train Acc: 82.18% | Val Loss: 1.3106 | Val Acc: 48.78%\n",
      "Epoch 14/25 | Train Loss: 0.4794 | Train Acc: 83.69% | Val Loss: 1.3386 | Val Acc: 43.90%\n",
      "Epoch 15/25 | Train Loss: 0.4043 | Train Acc: 86.71% | Val Loss: 1.4989 | Val Acc: 42.68%\n",
      "Epoch 16/25 | Train Loss: 0.3934 | Train Acc: 87.31% | Val Loss: 1.3395 | Val Acc: 47.56%\n",
      "Epoch 17/25 | Train Loss: 0.3132 | Train Acc: 89.73% | Val Loss: 1.4716 | Val Acc: 48.78%\n",
      "Epoch 18/25 | Train Loss: 0.2911 | Train Acc: 93.35% | Val Loss: 1.5220 | Val Acc: 45.12%\n",
      "Epoch 19/25 | Train Loss: 0.3063 | Train Acc: 92.15% | Val Loss: 1.4221 | Val Acc: 45.12%\n",
      "Epoch 20/25 | Train Loss: 0.2464 | Train Acc: 93.96% | Val Loss: 1.6462 | Val Acc: 43.90%\n",
      "Epoch 21/25 | Train Loss: 0.2073 | Train Acc: 94.86% | Val Loss: 1.5840 | Val Acc: 47.56%\n",
      "Epoch 22/25 | Train Loss: 0.1963 | Train Acc: 95.77% | Val Loss: 1.7436 | Val Acc: 47.56%\n",
      "Epoch 23/25 | Train Loss: 0.1695 | Train Acc: 96.68% | Val Loss: 1.7819 | Val Acc: 46.34%\n",
      "Epoch 24/25 | Train Loss: 0.1502 | Train Acc: 96.37% | Val Loss: 1.9387 | Val Acc: 48.78%\n",
      "Epoch 25/25 | Train Loss: 0.1424 | Train Acc: 96.68% | Val Loss: 1.8699 | Val Acc: 51.22%\n"
     ]
    }
   ],
   "source": [
    "train_losses, train_accuracies, val_losses, val_accuracies = train(cnn_model, train_loader, val_loader,\n",
    "                                                                   optimizer, criterion, device, epochs=25)\n",
    "\n",
    "notifyme(\"Training completed\", \"The CNN model has been trained successfully.\")"
   ]
  },
  {
   "cell_type": "code",
   "execution_count": 11,
   "id": "c80fee8b",
   "metadata": {},
   "outputs": [
    {
     "data": {
      "image/png": "[encoded data removed]",
      "text/plain": [
       "<Figure size 1000x400 with 2 Axes>"
      ]
     },
     "metadata": {},
     "output_type": "display_data"
    }
   ],
   "source": [
    "epochs_range = range(1, len(train_losses) + 1)\n",
    "\n",
    "# Loss plot\n",
    "plt.figure(figsize=(10, 4))\n",
    "plt.subplot(1, 2, 1)\n",
    "plt.plot(epochs_range, train_losses, label='Train Loss')\n",
    "plt.plot(epochs_range, val_losses, label='Val Loss')\n",
    "plt.xlabel('Epoch')\n",
    "plt.ylabel('Loss')\n",
    "plt.title('Loss over Epochs')\n",
    "plt.legend()\n",
    "\n",
    "# Accuracy plot\n",
    "plt.subplot(1, 2, 2)\n",
    "plt.plot(epochs_range, train_accuracies, label='Train Acc')\n",
    "plt.plot(epochs_range, val_accuracies, label='Val Acc')\n",
    "plt.xlabel('Epoch')\n",
    "plt.ylabel('Accuracy (%)')\n",
    "plt.title('Accuracy over Epochs')\n",
    "plt.legend()\n",
    "\n",
    "plt.tight_layout()\n",
    "plt.show()"
   ]
  },
  {
   "cell_type": "markdown",
   "id": "737e09a9",
   "metadata": {},
   "source": [
    "## Testing"
   ]
  },
  {
   "cell_type": "code",
   "execution_count": 12,
   "id": "f0eba277",
   "metadata": {},
   "outputs": [],
   "source": [
    "test_dataset = IDRiDDataset(\n",
    "    img_dir=test_data_path,\n",
    "    csv_file=test_labels,\n",
    "    transform=val_test_transform\n",
    ")\n",
    "test_loader = DataLoader(test_dataset, batch_size=16, shuffle=False)"
   ]
  },
  {
   "cell_type": "code",
   "execution_count": 13,
   "id": "cb3fe473",
   "metadata": {},
   "outputs": [],
   "source": [
    "test_pred_probs = []\n",
    "test_pred_labels = []\n",
    "\n",
    "with torch.no_grad():\n",
    "    for images, labels in test_loader:\n",
    "        images = images.to(device)\n",
    "        labels = labels['retinopathy'].to(device)\n",
    "        outputs = cnn_model(images)\n",
    "        pred_probs = F.softmax(outputs, dim=1)\n",
    "        test_pred_probs.extend(pred_probs.cpu().numpy())\n",
    "        pred_label = torch.argmax(outputs, dim=1)\n",
    "        test_pred_labels.extend(pred_label.cpu().numpy())\n",
    "\n",
    "notifyme(\"Testing completed\", \"The CNN model has been tested successfully.\")"
   ]
  },
  {
   "cell_type": "code",
   "execution_count": 14,
   "id": "79d9071c",
   "metadata": {},
   "outputs": [
    {
     "name": "stdout",
     "output_type": "stream",
     "text": [
      "              precision    recall  f1-score   support\n",
      "\n",
      "           0       0.55      0.50      0.52        34\n",
      "           1       0.00      0.00      0.00         5\n",
      "           2       0.43      0.38      0.40        32\n",
      "           3       0.27      0.42      0.33        19\n",
      "           4       0.08      0.08      0.08        13\n",
      "\n",
      "    accuracy                           0.37       103\n",
      "   macro avg       0.26      0.27      0.27       103\n",
      "weighted avg       0.37      0.37      0.37       103\n",
      "\n",
      "[[17  1  7  6  3]\n",
      " [ 1  0  2  1  1]\n",
      " [ 6  0 12 10  4]\n",
      " [ 3  0  4  8  4]\n",
      " [ 4  0  3  5  1]]\n"
     ]
    },
    {
     "data": {
      "image/png": "[encoded data removed]",
      "text/plain": [
       "<Figure size 1000x800 with 2 Axes>"
      ]
     },
     "metadata": {},
     "output_type": "display_data"
    }
   ],
   "source": [
    "test_labels = pd.read_csv(test_labels)['Retinopathy grade']\n",
    "classes = test_labels.unique()\n",
    "\n",
    "report = classification_report(test_labels, test_pred_labels)\n",
    "print(report)\n",
    "\n",
    "cm = confusion_matrix(test_labels, test_pred_labels)\n",
    "print(cm)\n",
    "plt.figure(figsize=(10, 8))\n",
    "sns.heatmap(cm, \n",
    "            annot=True, fmt='d', cmap='Blues', \n",
    "            xticklabels=classes, \n",
    "            yticklabels=classes)\n",
    "plt.title(\"Confusion Matrix - CNN\")\n",
    "plt.xlabel(\"Predicted Labels\")\n",
    "plt.ylabel(\"True Labels\")\n",
    "plt.show()"
   ]
  },
  {
   "cell_type": "markdown",
   "id": "81ad57a9",
   "metadata": {},
   "source": [
    "## 🔍 Model Performance Analysis\n",
    "\n",
    "### Summary\n",
    "\n",
    "The model achieves an overall accuracy of **37%** and a **macro-averaged F1-score of 0.27**. The class-wise performance reveals a significant variation in how well the model handles different categories:\n",
    "\n",
    "- **Class 0** shows the highest precision (0.55) and recall (0.50), indicating relatively strong performance in identifying this category.\n",
    "- **Class 1** has zero precision and recall, suggesting it is not being correctly classified at all.\n",
    "- **Class 2** achieves moderate scores with a precision of 0.43 and recall of 0.38.\n",
    "- **Class 3** has slightly lower precision (0.27) but a recall of 0.42, indicating the model is more likely to identify class 3 but with some false positives.\n",
    "- **Class 4** shows very low scores across all metrics, with an F1-score of just 0.08.\n",
    "\n",
    "### Confusion Matrix Insights\n",
    "\n",
    "The confusion matrix highlights several important trends:\n",
    "\n",
    "- Class 0 is most often confused with classes 2, 3, and 4.\n",
    "- Class 2 is commonly misclassified as class 3.\n",
    "- Class 3 and 4 exhibit substantial misclassification into each other and into class 2.\n",
    "- Class 1 is misclassified broadly across other categories, with no strong prediction pattern.\n",
    "\n",
    "### Recommendations\n",
    "\n",
    "1. **Address Class Imbalance**:\n",
    "   - Introduce class weighting in the loss function to emphasize underrepresented or underperforming classes.\n",
    "   - Consider oversampling minority classes or applying targeted data augmentation to enrich their representation.\n",
    "\n",
    "2. **Model Architecture Improvements**:\n",
    "   - Upgrade from a basic CNN to a pretrained architecture (e.g., ResNet, EfficientNet) to improve feature extraction and generalization.\n",
    "\n",
    "3. **Data Preprocessing**:\n",
    "   - Review image normalization and augmentation strategies to ensure consistency and avoid overfitting on more common patterns.\n",
    "\n",
    "4. **Evaluation Strategy**:\n",
    "   - Complement the confusion matrix with sample-level error inspection.\n",
    "   - Use interpretability tools (e.g., Grad-CAM) to analyze what the model focuses on in each class.\n",
    "\n",
    "### Conclusion\n",
    "\n",
    "The current model captures class 0 well but underperforms on several other categories, especially class 1 and class 4. Enhancements in model architecture, data balancing, and error analysis are recommended to improve the overall performance and robustness."
   ]
  }
 ],
 "metadata": {
  "kernelspec": {
   "display_name": ".venv",
   "language": "python",
   "name": "python3"
  },
  "language_info": {
   "codemirror_mode": {
    "name": "ipython",
    "version": 3
   },
   "file_extension": ".py",
   "mimetype": "text/x-python",
   "name": "python",
   "nbconvert_exporter": "python",
   "pygments_lexer": "ipython3",
   "version": "3.13.4"
  }
 },
 "nbformat": 4,
 "nbformat_minor": 5
}
