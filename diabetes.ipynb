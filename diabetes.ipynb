{
 "cells": [
  {
   "cell_type": "code",
   "execution_count": null,
   "id": "cb8cdb6e",
   "metadata": {},
   "outputs": [],
   "source": [
    "import numpy as np\n",
    "import pandas as pd\n",
    "import matplotlib.pyplot as plt\n",
    "\n",
    "from sklearn.model_selection import train_test_split\n",
    "import torch\n",
    "import torch.nn as nn\n",
    "import torch.optim as optim"
   ]
  },
  {
   "cell_type": "code",
   "execution_count": null,
   "id": "25b6dbee",
   "metadata": {},
   "outputs": [],
   "source": [
    "df11 = pd.read_csv('datasets/2011.csv')"
   ]
  },
  {
   "cell_type": "code",
   "execution_count": null,
   "id": "277d619a",
   "metadata": {},
   "outputs": [],
   "source": [
    "df11.info()"
   ]
  },
  {
   "cell_type": "code",
   "execution_count": null,
   "id": "1ce23192",
   "metadata": {},
   "outputs": [],
   "source": [
    "df11.head()"
   ]
  },
  {
   "cell_type": "code",
   "execution_count": null,
   "id": "a8ca4582",
   "metadata": {},
   "outputs": [],
   "source": [
    "df11.describe()"
   ]
  },
  {
   "cell_type": "code",
   "execution_count": null,
   "id": "9e05d4e1",
   "metadata": {},
   "outputs": [],
   "source": [
    "dict(df11.isna().sum())"
   ]
  },
  {
   "cell_type": "code",
   "execution_count": null,
   "id": "ee6da3a4",
   "metadata": {},
   "outputs": [],
   "source": [
    "set(df11.dtypes)"
   ]
  },
  {
   "cell_type": "code",
   "execution_count": null,
   "id": "3c6bd731",
   "metadata": {},
   "outputs": [],
   "source": []
  },
  {
   "cell_type": "code",
   "execution_count": null,
   "id": "949ccae5",
   "metadata": {},
   "outputs": [],
   "source": [
    "df11_no_na = df11.dropna(axis=1)"
   ]
  },
  {
   "cell_type": "code",
   "execution_count": null,
   "id": "f1809af2",
   "metadata": {},
   "outputs": [],
   "source": [
    "df11_numeric = df11_no_na.select_dtypes(include='number')"
   ]
  },
  {
   "cell_type": "code",
   "execution_count": null,
   "id": "02805367",
   "metadata": {},
   "outputs": [],
   "source": [
    "df11_numeric.describe()"
   ]
  },
  {
   "cell_type": "code",
   "execution_count": null,
   "id": "3b710eef",
   "metadata": {},
   "outputs": [],
   "source": []
  },
  {
   "cell_type": "code",
   "execution_count": null,
   "id": "06f89850",
   "metadata": {},
   "outputs": [],
   "source": []
  }
 ],
 "metadata": {
  "kernelspec": {
   "display_name": ".venv",
   "language": "python",
   "name": "python3"
  },
  "language_info": {
   "codemirror_mode": {
    "name": "ipython",
    "version": 3
   },
   "file_extension": ".py",
   "mimetype": "text/x-python",
   "name": "python",
   "nbconvert_exporter": "python",
   "pygments_lexer": "ipython3",
   "version": "3.13.4"
  }
 },
 "nbformat": 4,
 "nbformat_minor": 5
}
